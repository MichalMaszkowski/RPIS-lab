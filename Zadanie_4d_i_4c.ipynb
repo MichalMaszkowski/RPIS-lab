{
 "cells": [
  {
   "cell_type": "markdown",
   "id": "94d70d3b",
   "metadata": {},
   "source": [
    "# Monte Carlo estimation"
   ]
  },
  {
   "cell_type": "markdown",
   "id": "c65c47ad",
   "metadata": {},
   "source": [
    "**Dla kontekstu:**"
   ]
  },
  {
   "cell_type": "markdown",
   "id": "d4e6d9ec",
   "metadata": {},
   "source": [
    "**Problem 4a (Monte Carlo volume estimation).** In this problem our goal is to estimate the area of a unit disk. To this end, implement in Python a function that for a given $N$:\n",
    " * Uniformly samples $N$ points in a $[-1,1]\\times[-1,1]$ square.\n",
    " * For each sampled point checks whether or not it lies inside a unit disk, let $X$ be the number of points inside.\n",
    " * Returns the ratio $AX/N$ (where $A=4$ is the area of the square).\n",
    "\n",
    "Then:\n",
    " * Run your function $1000$ times for $N=1000$ and draw a histogram of the estimates.\n",
    " * What is the expected value $E(AX/N)$? What is the standard deviation?\n",
    " * Repeat the experiment, but this time sample from $[-10,10]\\times[-10,10]$. Again draw a histogram, and compute the moments. Discuss the results.\n",
    "\n",
    "**Remark:** Since we know how to compute the area of a unit disk, this exercise seems rather pointless. However, note that the exact same procedure can be used to estimate the $n$-dimensional volume of any body $S$ provided that:\n",
    " * We have a black-box that tells us whether or not a given point is in $S$.\n",
    " * We know $M$ such that $S \\subseteq [-M,M]^n$ (or more generally we know a set $T$ such that we can sample uniformly from $T$ and know the volume of $T$).\n",
    " * The ratio of the volume of $S$ to the volume of $[-M,M]^n$ (or $T$) is not too small."
   ]
  },
  {
   "cell_type": "markdown",
   "id": "e4bc21b3",
   "metadata": {},
   "source": [
    "**Problem 4c (Monte Carlo counting).** Consider the following problem: Given a DNF formula $\\phi$, compute the number of assignments satisfying $\\phi$. Doing this is #P hard, so efficient exact solutions are unlikely. But we can try finding a good estimate. Your task in this problem is to use an approach similar to the one in **Problem 4a** to find such an estimate. \n",
    "\n",
    "A DNF formula looks like this:\n",
    "$$ \\phi = (x_1 \\wedge \\neg x_3 \\wedge x_4) \\vee (\\neg x_1 \\wedge x_2)$$\n",
    "This particular formula can be encoded using Python lists as follows:\n",
    "$$ phi = [ [1,-3,4],[-1,2]]$$\n",
    "You are given a sample formula below. \n",
    " * Write a Python function that estimates the number of satisfying assignments for this formula using Monte Carlo sampling.\n",
    " * Using a histogram (or other methods) decide whether this is an efficient method."
   ]
  },
  {
   "cell_type": "markdown",
   "id": "fb5c7ce9",
   "metadata": {},
   "source": [
    "**Rozwiązanie:**\n",
    "\n",
    "**autor: Michał Maszkowski (421428)**"
   ]
  },
  {
   "cell_type": "code",
   "execution_count": 1,
   "id": "228ccd0f",
   "metadata": {},
   "outputs": [],
   "source": [
    "import numpy as np\n",
    "import matplotlib.pyplot as plt\n",
    "from numpy import random\n",
    "\n",
    "M = 64 # liczba zmiennych\n",
    "phi = [[55, 3, -50, -57, 2, 51, -5, -56, -45, 1], [28, -1, -26, 35, 42, -43, 45, -56, -11, 6], [-18, 43, 1, 64, -34, 28, 48, -13, 29, 49], [-21, 12, 7, -49, -25, -45, 8, -51, 5, -26], [6, -26, 27, 51, 2, 9, 49, 29, -42, -35], [-12, 4, -32, -60, 2, 56, 31, 58, -19, -46], [-10, -52, 25, -8, -56, -24, -51, 20, 36, 22], [-64, -26, -36, -14, 3, 42, -20, -59, 25, 33], [-31, -33, 40, -29, -12, -49, 28, 11, 7, 22], [-25, 23, -17, -61, 34, 32, 24, -52, -21, -26], [-48, -42, -43, -24, 14, 50, -64, 60, 7, -53], [-1, 2, -61, -24, -53, 34, -13, 36, -46, 3], [3, -52, 60, 39, 9, 59, 57, 32, 6, -7], [-17, -28, -58, 33, 16, -22, -13, 26, 18, -11], [47, -39, 46, 40, -18, 24, 6, -23, -64, -22], [-6, 60, 35, 1, 52, 18, -33, 43, 45, -11], [57, -34, -32, 16, -41, -25, 37, 40, 43, -5], [58, -51, -40, 42, 5, 27, -41, 20, 32, 30], [-48, -11, -15, -14, -27, 17, -33, 55, -64, -51], [-11, -8, 48, 57, 42, 64, 40, -45, 13, -25], [-40, -39, 46, -36, -51, -58, 14, 7, -18, -6], [31, 38, -11, -45, -14, -9, -63, 27, -35, -46], [40, 11, 28, -26, -25, -20, -41, 16, 61, -32], [-35, 6, -58, 30, 62, -36, -7, -37, 38, 51], [-13, 58, 1, 14, 52, 8, 45, -49, -21, 51], [10, -62, -39, -57, 15, -40, 56, -31, -47, 23], [37, 22, -21, 52, -5, -19, -7, 50, 34, 9], [18, 14, -31, 27, -2, 5, 3, 48, 63, -34], [-43, 39, -29, 34, 60, -10, -61, -49, -42, 57], [-32, -29, -16, 53, -38, 52, -36, -62, -5, 45], [-28, 25, -31, -41, -44, -37, 20, 48, 59, 24], [49, -59, -13, -56, -29, -2, -45, -62, -38, -26], [-33, -31, 53, 64, 15, 17, 12, 50, 46, -54], [56, 57, 22, 4, 46, 21, 49, 14, 43, -41], [-8, 18, -21, -15, -42, -64, 45, 14, 13, -33], [-32, 62, 2, 10, -49, -64, 15, -35, -20, -17], [54, -64, -20, 37, -5, -26, -41, -35, 32, -25], [60, 58, -23, -43, -2, 15, 10, 9, 59, -45], [9, 29, -17, 45, -53, 18, 19, 50, 42, -61], [54, -51, 9, -52, -40, -37, -18, -59, 48, 3], [-32, -17, 38, 12, -27, 45, 57, -51, 56, 4], [-12, 62, -17, -50, -32, -45, -56, 46, 19, -61], [51, -27, 56, 45, 59, -25, 3, -18, 60, -44], [-50, 5, -10, 12, -23, -41, 31, -59, -35, 30], [-5, 18, -4, -63, 22, -40, 10, -62, 61, -35], [1, -10, 31, -41, 56, -17, -61, 22, 46, -14], [-45, 32, 54, -48, -25, 10, 31, -63, 38, -17], [50, -46, 44, -57, -45, -1, -63, 15, 4, 12], [-39, -28, 49, -9, 53, 25, 47, -6, 24, -36], [-41, 59, 13, 15, 21, -20, -19, 2, -22, 37], [-31, 23, -57, -38, 30, 59, 28, 6, 53, 26], [-38, -62, 14, 26, 12, 46, 10, 35, -18, -43], [20, -10, -48, -62, -17, -27, 49, -11, 59, 7], [-43, -46, -14, -31, -62, 52, -10, 40, -63, 32], [15, -12, 43, -19, -34, -25, -14, 62, 50, 61], [24, -52, 32, 61, 18, -44, 49, 29, 55, -57], [-27, 25, 55, -57, 12, 9, -43, 29, 36, 18], [13, -27, 21, -24, -8, 39, -60, 34, -11, 54], [-51, -3, 12, 26, -9, -23, -18, 28, 24, 11], [-1, -10, 9, 35, -55, -30, 48, 53, -32, -24], [-59, -58, -30, -46, 17, 11, 3, -18, -1, -50], [-61, -52, 17, -4, -44, -56, 64, 37, -47, 46], [28, 59, -23, 29, -5, -41, 39, 57, 2, 34], [-54, 56, 5, -20, -6, 13, 49, 28, -42, 25]]\n",
    "\n",
    "array_phi = np.array(phi)"
   ]
  },
  {
   "cell_type": "code",
   "execution_count": 2,
   "id": "75b2de32",
   "metadata": {},
   "outputs": [
    {
     "name": "stdout",
     "output_type": "stream",
     "text": [
      "Oszacowanie liczby wartościowań spełniających:  1.1301705202492719e+18\n",
      "Odchylenie standardowe:  1.5173747437237875e+17\n",
      "Stosunek odchylenia do średniej:  0.13426069044776653\n"
     ]
    },
    {
     "data": {
      "image/png": "[encoded data removed]",
      "text/plain": [
       "<Figure size 640x480 with 1 Axes>"
      ]
     },
     "metadata": {},
     "output_type": "display_data"
    }
   ],
   "source": [
    "powtorzenia = 30\n",
    "N = 1000 # liczba próbek w szacowaniu\n",
    "\n",
    "def szacowanie(N):\n",
    "    probki = 2 * np.random.randint(2, size=(N, M)) - 1 # N próbek M zmiennych o wartościach z {-1, 1}\n",
    "    #bez pętli:\n",
    "    N_ewaluacji_zmiennych = probki[:, np.abs(array_phi) - 1] * array_phi # N ewaluacji zmiennych z poszczególnych klauzul z formuły na próbce\n",
    "    # wektorowo N krotne sprawdzenie spełnialności formuły:\n",
    "    N_ewaluacji_formuly = ((N_ewaluacji_zmiennych > 0).all(axis = 2)).any(axis = 1) # all ewaluuje klauzule; any ewaluuje formułę na ewaluowanych klauzulach\n",
    "    liczba_spelnionych = np.sum(N_ewaluacji_formuly)\n",
    "    # print(liczba_spelnionych)\n",
    "    return 2 ** M / N * liczba_spelnionych # liczba wszystkich razy stosunek spełnionych do wszystkich\n",
    "\n",
    "\n",
    "\n",
    "probka_szacowan = [szacowanie(N) for _ in range(powtorzenia)]\n",
    "\n",
    "srednia = np.mean(probka_szacowan)\n",
    "print(\"Oszacowanie liczby wartościowań spełniających:  \" + str(srednia))\n",
    "odchylenie = np.std(probka_szacowan)\n",
    "print(\"Odchylenie standardowe:  \" + str(odchylenie))\n",
    "print(\"Stosunek odchylenia do średniej:  \" + str(odchylenie/srednia))\n",
    "\n",
    "plt.hist(probka_szacowan);"
   ]
  },
  {
   "cell_type": "markdown",
   "id": "da871a40",
   "metadata": {},
   "source": [
    "# Zadanie:"
   ]
  },
  {
   "cell_type": "markdown",
   "id": "c7a780a0",
   "metadata": {},
   "source": [
    "**Problem 4d (Monte Carlo counting ctd).** In this problem we use a different distribution on assignments, to overcome the difficulties arising in **4c**. \n",
    " * 1) How many assignments satisfy clause $C_i$?\n",
    " * 2) How can we estimate the probability that a random assignment which satisfies $C_i$ does not satisfy any earlier clauses (i.e., $C_j$ for $j < i$)?\n",
    " * 3) How can we estimate the number of assignments which satisfy $C_i$ but do not satisfy any earlier clauses?\n",
    " * 4) How can we use the result of the previous question to construct an algorithm estimating the number of satisfying assignments?\n"
   ]
  },
  {
   "cell_type": "markdown",
   "id": "f5b6e319",
   "metadata": {},
   "source": [
    "**Rozwiązanie:**\n",
    "\n",
    "**autor: Michał Maszkowski (421428)**"
   ]
  },
  {
   "cell_type": "code",
   "execution_count": 3,
   "id": "9b2564c2",
   "metadata": {},
   "outputs": [],
   "source": [
    "import numpy as np\n",
    "import matplotlib.pyplot as plt\n",
    "from numpy import random\n",
    "\n",
    "M = 64    # liczba zmiennych\n",
    "phi = [[55, 3, -50, -57, 2, 51, -5, -56, -45, 1], [28, -1, -26, 35, 42, -43, 45, -56, -11, 6], [-18, 43, 1, 64, -34, 28, 48, -13, 29, 49], [-21, 12, 7, -49, -25, -45, 8, -51, 5, -26], [6, -26, 27, 51, 2, 9, 49, 29, -42, -35], [-12, 4, -32, -60, 2, 56, 31, 58, -19, -46], [-10, -52, 25, -8, -56, -24, -51, 20, 36, 22], [-64, -26, -36, -14, 3, 42, -20, -59, 25, 33], [-31, -33, 40, -29, -12, -49, 28, 11, 7, 22], [-25, 23, -17, -61, 34, 32, 24, -52, -21, -26], [-48, -42, -43, -24, 14, 50, -64, 60, 7, -53], [-1, 2, -61, -24, -53, 34, -13, 36, -46, 3], [3, -52, 60, 39, 9, 59, 57, 32, 6, -7], [-17, -28, -58, 33, 16, -22, -13, 26, 18, -11], [47, -39, 46, 40, -18, 24, 6, -23, -64, -22], [-6, 60, 35, 1, 52, 18, -33, 43, 45, -11], [57, -34, -32, 16, -41, -25, 37, 40, 43, -5], [58, -51, -40, 42, 5, 27, -41, 20, 32, 30], [-48, -11, -15, -14, -27, 17, -33, 55, -64, -51], [-11, -8, 48, 57, 42, 64, 40, -45, 13, -25], [-40, -39, 46, -36, -51, -58, 14, 7, -18, -6], [31, 38, -11, -45, -14, -9, -63, 27, -35, -46], [40, 11, 28, -26, -25, -20, -41, 16, 61, -32], [-35, 6, -58, 30, 62, -36, -7, -37, 38, 51], [-13, 58, 1, 14, 52, 8, 45, -49, -21, 51], [10, -62, -39, -57, 15, -40, 56, -31, -47, 23], [37, 22, -21, 52, -5, -19, -7, 50, 34, 9], [18, 14, -31, 27, -2, 5, 3, 48, 63, -34], [-43, 39, -29, 34, 60, -10, -61, -49, -42, 57], [-32, -29, -16, 53, -38, 52, -36, -62, -5, 45], [-28, 25, -31, -41, -44, -37, 20, 48, 59, 24], [49, -59, -13, -56, -29, -2, -45, -62, -38, -26], [-33, -31, 53, 64, 15, 17, 12, 50, 46, -54], [56, 57, 22, 4, 46, 21, 49, 14, 43, -41], [-8, 18, -21, -15, -42, -64, 45, 14, 13, -33], [-32, 62, 2, 10, -49, -64, 15, -35, -20, -17], [54, -64, -20, 37, -5, -26, -41, -35, 32, -25], [60, 58, -23, -43, -2, 15, 10, 9, 59, -45], [9, 29, -17, 45, -53, 18, 19, 50, 42, -61], [54, -51, 9, -52, -40, -37, -18, -59, 48, 3], [-32, -17, 38, 12, -27, 45, 57, -51, 56, 4], [-12, 62, -17, -50, -32, -45, -56, 46, 19, -61], [51, -27, 56, 45, 59, -25, 3, -18, 60, -44], [-50, 5, -10, 12, -23, -41, 31, -59, -35, 30], [-5, 18, -4, -63, 22, -40, 10, -62, 61, -35], [1, -10, 31, -41, 56, -17, -61, 22, 46, -14], [-45, 32, 54, -48, -25, 10, 31, -63, 38, -17], [50, -46, 44, -57, -45, -1, -63, 15, 4, 12], [-39, -28, 49, -9, 53, 25, 47, -6, 24, -36], [-41, 59, 13, 15, 21, -20, -19, 2, -22, 37], [-31, 23, -57, -38, 30, 59, 28, 6, 53, 26], [-38, -62, 14, 26, 12, 46, 10, 35, -18, -43], [20, -10, -48, -62, -17, -27, 49, -11, 59, 7], [-43, -46, -14, -31, -62, 52, -10, 40, -63, 32], [15, -12, 43, -19, -34, -25, -14, 62, 50, 61], [24, -52, 32, 61, 18, -44, 49, 29, 55, -57], [-27, 25, 55, -57, 12, 9, -43, 29, 36, 18], [13, -27, 21, -24, -8, 39, -60, 34, -11, 54], [-51, -3, 12, 26, -9, -23, -18, 28, 24, 11], [-1, -10, 9, 35, -55, -30, 48, 53, -32, -24], [-59, -58, -30, -46, 17, 11, 3, -18, -1, -50], [-61, -52, 17, -4, -44, -56, 64, 37, -47, 46], [28, 59, -23, 29, -5, -41, 39, 57, 2, 34], [-54, 56, 5, -20, -6, 13, 49, 28, -42, 25]]\n",
    "array_phi = np.array(phi)"
   ]
  },
  {
   "cell_type": "markdown",
   "id": "4364587f",
   "metadata": {},
   "source": [
    "1) 2**(liczba zmiennych - liczba zmiennych w klauzuli $C_i$) o ile w klauzuli nie powtarzają się zmienne co zakładam odnośnie wszystkich klauzul\n",
    "\n",
    "2) Można oszacować to prawdopodobieństwo przez stosunek (znaleziony za pomocą Monte Carlo) liczby wartościowań spełniających $C_i$ (należy przypisać zmiennym z tej klauzuli odpowiednie wartości \"na sztywno\" a losować tylko pozostałe) a niespełniających wcześniejszych. Stosunek będzie policzony raczej z małą wariancją bo bardzo rzadko klauzule są spełnione przez losową próbkę (dowolna z częstością około 2**-dlugość klauzuli)\n",
    "\n",
    "3) Można oszacować tą liczbę mnożąć liczbę uzyskaną w 1) przez szacunkowe prawdopodobieństwo z 2)\n",
    "\n",
    "4) Można oszacować liczbę wartościowań spełniających formułę sumując liczby uzyskane w 3) dla wszystkich klauzul, ponieważ te liczby to szacowane liczności zbiorów wartościowań, które to zbiory dla różnych klauzul są rozłączne."
   ]
  },
  {
   "cell_type": "markdown",
   "id": "348d176b",
   "metadata": {},
   "source": [
    "**1) How many assignments satisfy clause $C_i$?**"
   ]
  },
  {
   "cell_type": "code",
   "execution_count": 4,
   "id": "1ccc19e1",
   "metadata": {},
   "outputs": [],
   "source": [
    "def ile_spelnia(nr): # numer klauzuli od 0\n",
    "    return 2 ** (M - len(phi[nr]))"
   ]
  },
  {
   "cell_type": "code",
   "execution_count": 5,
   "id": "da96c1aa",
   "metadata": {},
   "outputs": [
    {
     "name": "stdout",
     "output_type": "stream",
     "text": [
      "18014398509481984\n"
     ]
    }
   ],
   "source": [
    "print(ile_spelnia(0))"
   ]
  },
  {
   "cell_type": "markdown",
   "id": "8cfe9732",
   "metadata": {},
   "source": [
    "**2) How can we estimate the probability that a random assignment which satisfies $C_i$ does not satisfy any earlier clauses (i.e., $C_j$ for $j < i$)?**"
   ]
  },
  {
   "cell_type": "code",
   "execution_count": 6,
   "id": "eff55240",
   "metadata": {},
   "outputs": [],
   "source": [
    "def N_probek(N, klauzula):\n",
    "    probki = 2 * np.random.randint(2, size=(N, M)) - 1    # N próbek M zmiennych o wartościach z {-1, 1}\n",
    "    probki[:, np.abs(klauzula) - 1] = np.sign(klauzula) # przypisanie na sztywno wartosci tak zeby spelnialy klauzule C_i\n",
    "    return probki\n",
    "    \n",
    "def szacowanie(N, nr): # numer klauzuli od 0\n",
    "    probki = N_probek(N, array_phi[nr])\n",
    "    # N ewaluacji zmiennych z poszczególnych klauzul z formuły na próbce (do nr-tej klauzuli włącznie):\n",
    "    N_ewaluacji_zmiennych = probki[:, np.abs(array_phi[:(nr + 1)]) - 1] * array_phi[:(nr + 1)]\n",
    "    # wektorowo N krotne sprawdzenie spełnialności klauzul:\n",
    "    N_ewaluacji_klauzul = ((N_ewaluacji_zmiennych > 0).all(axis = 2)) # all ewaluuje klauzule\n",
    "    prefsum_spelnionych = np.cumsum(N_ewaluacji_klauzul, axis = 1)\n",
    "    return (N - (np.sum(prefsum_spelnionych[:, nr] > 1))) # wszystkie - przeciwne\n",
    "\n",
    "def prawdopodobienstwo(N, nr):\n",
    "    return szacowanie(N, nr)/N"
   ]
  },
  {
   "cell_type": "code",
   "execution_count": 7,
   "id": "13a906a0",
   "metadata": {},
   "outputs": [
    {
     "name": "stdout",
     "output_type": "stream",
     "text": [
      "1.0\n",
      "1.0\n",
      "0.975\n",
      "0.95\n",
      "0.961\n",
      "0.943\n"
     ]
    }
   ],
   "source": [
    "N = 1000 # liczba próbek w szacowaniu\n",
    "\n",
    "print(prawdopodobienstwo(N, 0))\n",
    "print(prawdopodobienstwo(N, 15))\n",
    "print(prawdopodobienstwo(N, 30))\n",
    "print(prawdopodobienstwo(N, 45))\n",
    "print(prawdopodobienstwo(N, 60))\n",
    "print(prawdopodobienstwo(N, 63))"
   ]
  },
  {
   "cell_type": "markdown",
   "id": "7b40ea93",
   "metadata": {},
   "source": [
    "**3) How can we estimate the number of assignments which satisfy $C_i$ but do not satisfy any earlier clauses?**"
   ]
  },
  {
   "cell_type": "code",
   "execution_count": 8,
   "id": "2940939a",
   "metadata": {},
   "outputs": [],
   "source": [
    "def liczba_nowo_spelnionych(N, nr):\n",
    "    return prawdopodobienstwo(N, nr) * ile_spelnia(nr)"
   ]
  },
  {
   "cell_type": "markdown",
   "id": "8b6a72ea",
   "metadata": {},
   "source": [
    "**4) How can we use the result of the previous question to construct an algorithm estimating the number of satisfying assignments?**"
   ]
  },
  {
   "cell_type": "code",
   "execution_count": 9,
   "id": "03fda8ce",
   "metadata": {},
   "outputs": [],
   "source": [
    "def szacunek_liczby_spelniajacych(N):\n",
    "    wynik = 0\n",
    "    for i in range(array_phi.shape[0]): # iteracja po klauzulach\n",
    "        wynik += liczba_nowo_spelnionych(N, i)\n",
    "    return wynik"
   ]
  },
  {
   "cell_type": "code",
   "execution_count": 10,
   "id": "0a521875",
   "metadata": {},
   "outputs": [
    {
     "name": "stdout",
     "output_type": "stream",
     "text": [
      "1.1186689272809183e+18\n"
     ]
    }
   ],
   "source": [
    "N = 5000 # liczba próbek w szacowaniu\n",
    "\n",
    "print(szacunek_liczby_spelniajacych(N))"
   ]
  },
  {
   "cell_type": "markdown",
   "id": "24f92853",
   "metadata": {},
   "source": [
    "**Statystyki:**"
   ]
  },
  {
   "cell_type": "code",
   "execution_count": 11,
   "id": "3cdd2663",
   "metadata": {},
   "outputs": [
    {
     "name": "stdout",
     "output_type": "stream",
     "text": [
      "Złożoność obliczeń w tej komórce: liczba operacji = rzędu 1228800000\n",
      "\n",
      "Oszacowanie liczby wartościowań spełniających:  1.11926100051193e+18\n",
      "Odchylenie standardowe:  594033421643541.2\n",
      "Stosunek odchylenia do średniej:  0.0005307371751288046\n"
     ]
    },
    {
     "data": {
      "image/png": "[encoded data removed]",
      "text/plain": [
       "<Figure size 640x480 with 1 Axes>"
      ]
     },
     "metadata": {},
     "output_type": "display_data"
    }
   ],
   "source": [
    "N = 1000 # liczba próbek w szacowaniu\n",
    "powtorzenia = 30\n",
    "\n",
    "# (l. probek * array_phi.size) = zlozonosc 1 klauzuli\n",
    "# zlozonosc 1 klauzuli * l. klauzul = zlozonosc 1 oszacowania\n",
    "# zlozonosc 1 oszacowania * l. powtorzen = zlozonosc\n",
    "print(\"Złożoność obliczeń w tej komórce: liczba operacji = rzędu \" + str(1000*640*64*30))\n",
    "print()\n",
    "\n",
    "probka_szacowan = [szacunek_liczby_spelniajacych(N) for _ in range(powtorzenia)]\n",
    "\n",
    "srednia = np.mean(probka_szacowan)\n",
    "print(\"Oszacowanie liczby wartościowań spełniających:  \" + str(srednia))\n",
    "odchylenie = np.std(probka_szacowan)\n",
    "print(\"Odchylenie standardowe:  \" + str(odchylenie))\n",
    "print(\"Stosunek odchylenia do średniej:  \" + str(odchylenie/srednia))\n",
    "\n",
    "plt.hist(probka_szacowan);"
   ]
  }
 ],
 "metadata": {
  "kernelspec": {
   "display_name": "Python 3 (ipykernel)",
   "language": "python",
   "name": "python3"
  },
  "language_info": {
   "codemirror_mode": {
    "name": "ipython",
    "version": 3
   },
   "file_extension": ".py",
   "mimetype": "text/x-python",
   "name": "python",
   "nbconvert_exporter": "python",
   "pygments_lexer": "ipython3",
   "version": "3.9.13"
  }
 },
 "nbformat": 4,
 "nbformat_minor": 5
}
