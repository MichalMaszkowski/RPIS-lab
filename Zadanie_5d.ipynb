{
 "cells": [
  {
   "cell_type": "markdown",
   "id": "e77ee715",
   "metadata": {},
   "source": [
    "**Problem 5d (two-sample t-test).** We have two versions of a randomized optimization algorithm. In the table below you can find the objective function values for $n=20$ solutions found by each algorithm. Our goal is to decide if one of the algorithms is better than the other (i.e. finds solutions with higher values). We can proceed as follows:\n",
    " * Compute the means $M_1,M_2$. We need to decide if the difference $M_1-M_2$ is significant.\n",
    " * We estimate the standard deviation of $M_1-M_2$. Show that this is equal to $\\sqrt{(\\sigma_1^2+\\sigma_2^2)/n}$, where $\\sigma_i$ is the standard deviation of the value found by the algorithm $i$. We can estimate this by $D=\\sqrt{(\\hat{\\sigma_1^2}+\\hat{\\sigma_2^2})/n}$ where $\\hat{\\sigma_i^2}$ is an unbiased estimate of the variance of $i$-th algorithm.\n",
    " * Now compute $\\frac{M_1-M_2}{D}$. If the real values of $\\sigma_i$ are equal, i.e. $\\sigma_1=\\sigma_2$, then it can be shown that this has a $t$-distribution with $2n-2$ degrees of freedom. \n",
    " * Use **scipy.stats.t.cdf** to compute the p-value and decide if we can reject the null hyphotesis of the means being equal. Note that in our case the probability of getting a difference \"at least as large as the one we got\" has to include deviations in both directions!"
   ]
  },
  {
   "cell_type": "markdown",
   "id": "1d510247",
   "metadata": {},
   "source": [
    "**Rozwiązanie:**\n",
    "\n",
    "**Autor: Michał Maszkowski (421428)**"
   ]
  },
  {
   "cell_type": "code",
   "execution_count": 1,
   "id": "e6fc2328",
   "metadata": {},
   "outputs": [],
   "source": [
    "import numpy as np\n",
    "import scipy\n",
    "\n",
    "data=np.array([ [98.67573, 100.77983, 101.35478,  98.50285,  99.14984, \n",
    "      100.64105,  98.37170, 100.24933, 99.54994, 100.79508, \n",
    "      101.14978, 101.32538, 100.44573, 97.60020, 97.78547,  \n",
    "      98.88703,  99.06794, 100.65313, 100.30297, 100.26311],\n",
    "       [99.96234, 99.94943, 99.58779, 100.52263, 101.58972,\n",
    "        101.78411, 100.09874, 100.99211, 101.93214, 100.61749,\n",
    "        100.46854,  99.19030, 101.28412, 100.70897, 99.83988,\n",
    "        100.24668,  99.38278,  99.82720,  97.55918, 100.63128]])\n",
    "\n",
    "n = data.shape[1] # n=20"
   ]
  },
  {
   "cell_type": "code",
   "execution_count": 2,
   "id": "98ed2976",
   "metadata": {},
   "outputs": [
    {
     "name": "stdout",
     "output_type": "stream",
     "text": [
      "M1 = 99.7775435\n",
      "M2 = 100.30877149999999\n",
      "M1 - M2 = -0.5312279999999987\n",
      "Odchylenie1 = 1.1568587589428332\n",
      "Odchylenie2 = 0.9807945727841035\n",
      "D = 0.3658308609375038\n"
     ]
    }
   ],
   "source": [
    "M1 = np.mean(data[0])\n",
    "print(\"M1 = \" + str(M1))\n",
    "\n",
    "M2 = np.mean(data[1])\n",
    "print(\"M2 = \" + str(M2))\n",
    "\n",
    "roznica = M1 - M2\n",
    "print(\"M1 - M2 = \" + str(roznica))\n",
    "\n",
    "\n",
    "odchylenie1 = np.std(data[0])\n",
    "print(\"Odchylenie1 = \" + str(odchylenie1))\n",
    "\n",
    "odchylenie2 = np.std(data[1])\n",
    "print(\"Odchylenie2 = \" + str(odchylenie2))\n",
    "\n",
    "D = np.sqrt((odchylenie1 ** 2 + odchylenie1 ** 2) / n)\n",
    "print(\"D = \" + str(D))"
   ]
  },
  {
   "cell_type": "code",
   "execution_count": 3,
   "id": "9bbed3a8",
   "metadata": {},
   "outputs": [
    {
     "name": "stdout",
     "output_type": "stream",
     "text": [
      "Ułamek = -1.4521136861954091\n",
      "p = 0.1546773512660189\n"
     ]
    }
   ],
   "source": [
    "stosunek = roznica / D\n",
    "print(\"Ułamek = \" + str(stosunek))\n",
    "\n",
    "p = 2 * (1 - scipy.stats.t.cdf(x = np.abs(stosunek), df = (2 * n - 2)))\n",
    "print(\"p = \" + str(p))"
   ]
  },
  {
   "cell_type": "code",
   "execution_count": 4,
   "id": "315a4338",
   "metadata": {},
   "outputs": [
    {
     "name": "stdout",
     "output_type": "stream",
     "text": [
      "Algorytmy są tak samo dobre\n"
     ]
    }
   ],
   "source": [
    "alfa = 0.05\n",
    "if(p < alfa):\n",
    "    txt = \"\"\n",
    "    if(M1 > M2):\n",
    "        txt = \"pierwszy algorytm jest lepszy\"\n",
    "    else:\n",
    "        txt = \"drugi algorytm jest lepszy\"\n",
    "    print(\"Odrzucam hipotezę zerową -> \" + txt)\n",
    "else:\n",
    "    print(\"Algorytmy są tak samo dobre\")"
   ]
  }
 ],
 "metadata": {
  "kernelspec": {
   "display_name": "Python 3 (ipykernel)",
   "language": "python",
   "name": "python3"
  },
  "language_info": {
   "codemirror_mode": {
    "name": "ipython",
    "version": 3
   },
   "file_extension": ".py",
   "mimetype": "text/x-python",
   "name": "python",
   "nbconvert_exporter": "python",
   "pygments_lexer": "ipython3",
   "version": "3.9.13"
  }
 },
 "nbformat": 4,
 "nbformat_minor": 5
}
